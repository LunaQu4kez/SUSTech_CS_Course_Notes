{
 "cells": [
  {
   "cell_type": "markdown",
   "metadata": {},
   "source": [
    "# Lecture 4: Data Preprocessing\n",
    "\n",
    "In this section, we will introduce how to preprocess data with sklearn."
   ]
  },
  {
   "cell_type": "markdown",
   "metadata": {},
   "source": [
    "## Handling Missing Values :\n",
    "\n",
    "Refer to lecture 3"
   ]
  },
  {
   "cell_type": "markdown",
   "metadata": {},
   "source": [
    "## Feature Scaling: Standardization and normalization:\n",
    "Normalization is a form of standardization.\n",
    "Normalization maps data into the interval [0,1].\n",
    "Normalization is the process of scaling data to fit into a specific interval.\n",
    "The standardized data has a mean of 0 and a standard deviation equal to 1, so the standardized data can be positive or negative.\n",
    "Normalized data does not work well if the original data does not conform to a Gaussian distribution. (The reason for normalization is that if the variance of some features is too large, it will dominate the objective function and prevent the parameter estimator from learning other features correctly.)\n",
    "\n"
   ]
  },
  {
   "cell_type": "markdown",
   "metadata": {},
   "source": []
  },
  {
   "cell_type": "code",
   "execution_count": 1,
   "metadata": {},
   "outputs": [],
   "source": [
    "from sklearn.preprocessing import StandardScaler\n",
    "from sklearn.preprocessing import MinMaxScaler\n",
    "from matplotlib import gridspec\n",
    "import numpy as np\n",
    "import matplotlib.pyplot as plt"
   ]
  },
  {
   "cell_type": "markdown",
   "metadata": {},
   "source": [
    "### Standardize data and inverse transformation  using sklearn\n",
    "\n",
    "The process of Standard transformation is divided into two steps.\n",
    "\n",
    "* Decentering of the mean (mean becomes 0).\n",
    "* Scaling of the variance (variance becomes 1).\n",
    "\n",
    "\n",
    "Each column is standardized to the standard normal distribution, note that the standardization is done for each column."
   ]
  },
  {
   "cell_type": "code",
   "execution_count": 2,
   "metadata": {},
   "outputs": [],
   "source": [
    "data=np.random.randn(30,4)*3+1"
   ]
  },
  {
   "cell_type": "code",
   "execution_count": 3,
   "metadata": {},
   "outputs": [
    {
     "data": {
      "text/plain": [
       "array([[ 3.06704735, -0.42527931, -3.73118218,  1.68359769],\n",
       "       [-1.1477499 , -1.31135066, -7.93709137,  1.48954002],\n",
       "       [ 0.41252904, -3.34466299,  5.80735588, -1.26779775],\n",
       "       [ 3.11064336, -3.53980013,  1.16909773, -1.44219196],\n",
       "       [ 1.42869309, -0.05256714, -5.50733057,  0.16114609],\n",
       "       [-1.29285012, -2.06498592,  6.82152767,  1.29159616],\n",
       "       [-1.44876403, -3.09863312, -6.03431092,  0.29704696],\n",
       "       [-5.40197207, -0.27729005,  0.85934617, -2.14119705],\n",
       "       [ 3.28585635,  2.01873394, -6.25936775, -0.87398321],\n",
       "       [-4.66358549, -3.51057435,  6.19122408, -0.95748436],\n",
       "       [-1.26436722, -1.36999214,  2.05693612,  0.04560163],\n",
       "       [ 0.88552068,  3.69656872,  1.21831224,  4.59176866],\n",
       "       [-0.17564638,  6.65459102,  1.7844178 , -3.2470935 ],\n",
       "       [ 2.75781144,  3.1205553 , -0.36811365,  4.11045494],\n",
       "       [-0.91380537, -0.68436589, -6.839186  ,  2.34985202],\n",
       "       [ 0.25141211,  5.13975599, -1.75772343,  3.45198479],\n",
       "       [-0.77249465,  0.98038193,  3.83619338, -4.69768245],\n",
       "       [ 4.91916215, -1.99997301,  3.51566657,  0.64277453],\n",
       "       [ 0.74828541,  2.50765958, -2.81420286,  0.24248481],\n",
       "       [ 1.64809013, -2.64712471,  4.73127073,  5.38589128],\n",
       "       [ 1.660076  , -0.70371106, -2.27767742,  5.60800111],\n",
       "       [-3.54433672,  4.12958827, -1.5399718 , -3.5002136 ],\n",
       "       [-1.91208627,  1.87072781,  1.41231079, -2.1997773 ],\n",
       "       [-2.44033561,  5.39585312, -5.23557558,  1.30027391],\n",
       "       [ 5.39193754, -0.88060368,  3.33166728, -0.53193985],\n",
       "       [-4.69123087, -1.56998602,  1.8387703 , -1.79471262],\n",
       "       [ 0.98678174, -0.5907865 ,  0.41327102,  9.26588852],\n",
       "       [ 2.12193206, -1.65052081,  5.35238682,  2.98403041],\n",
       "       [ 2.8423624 ,  5.11975471, -1.89579066, -0.82820082],\n",
       "       [ 5.76365321,  8.57338313, -0.79712459,  6.93396542]])"
      ]
     },
     "execution_count": 3,
     "metadata": {},
     "output_type": "execute_result"
    }
   ],
   "source": [
    "data"
   ]
  },
  {
   "cell_type": "code",
   "execution_count": 13,
   "metadata": {},
   "outputs": [
    {
     "data": {
      "text/plain": [
       "array([3.10111586, 2.58138223, 2.83467788, 2.85750296])"
      ]
     },
     "execution_count": 13,
     "metadata": {},
     "output_type": "execute_result"
    }
   ],
   "source": [
    "data.std(axis=0)"
   ]
  },
  {
   "cell_type": "code",
   "execution_count": 14,
   "metadata": {},
   "outputs": [],
   "source": [
    "std = StandardScaler()"
   ]
  },
  {
   "cell_type": "code",
   "execution_count": 15,
   "metadata": {},
   "outputs": [],
   "source": [
    "data_n=std.fit_transform(data)"
   ]
  },
  {
   "cell_type": "code",
   "execution_count": 16,
   "metadata": {},
   "outputs": [
    {
     "data": {
      "text/plain": [
       "array([[ 0.44352074,  0.00992653, -0.74118271,  0.74850431],\n",
       "       [-0.61089722,  0.12367808,  1.15590952, -1.06467252],\n",
       "       [ 0.07283776,  1.05506955, -0.87936683, -1.38182642],\n",
       "       [ 0.38951615,  0.94615321, -1.63039494, -0.23953292],\n",
       "       [ 0.37732286, -1.08215241,  2.15864238,  0.64034304],\n",
       "       [-2.83233896, -0.41273491,  0.2947669 , -0.68481087],\n",
       "       [ 1.64272292, -0.89896435, -1.83113262,  0.56077623],\n",
       "       [ 0.50745092, -0.33858374, -0.26683716,  0.55442794],\n",
       "       [-0.09692605,  0.36875628,  0.90069506,  1.18045959],\n",
       "       [ 0.62767106,  1.39061447,  0.44630222, -0.27809114],\n",
       "       [-0.00987112,  0.31010379, -0.93698492,  2.24589872],\n",
       "       [ 0.47660112,  0.65518326,  1.04382931,  0.27364609],\n",
       "       [ 0.70281006,  0.20306403,  0.70095004,  0.11593608],\n",
       "       [ 1.01650186, -1.28403625,  0.26882762, -0.1258953 ],\n",
       "       [-0.74717079,  0.78255253,  0.50213918,  1.06021717],\n",
       "       [-0.01040599,  0.15492097,  0.66220064, -0.8062387 ],\n",
       "       [-0.32027703, -0.75873612, -0.74430687, -1.68026116],\n",
       "       [-0.593733  , -0.50238424, -0.10542272, -1.22906543],\n",
       "       [ 0.47853886,  0.23275962, -0.55411028,  0.94316177],\n",
       "       [-1.24318292,  2.13571194,  0.55313024,  1.64856019],\n",
       "       [ 2.02271289,  2.13083174, -0.21286871, -1.55854634],\n",
       "       [-1.24677932, -0.6080123 ,  1.22189716,  1.14508749],\n",
       "       [ 0.95989542,  0.01306678,  1.71254397, -0.02031059],\n",
       "       [-0.31171514,  0.13155131,  1.41602483, -0.10297156],\n",
       "       [ 1.05237   , -2.74888533, -0.93672701,  0.88890823],\n",
       "       [ 0.58743496, -0.62306332, -1.18296311,  0.03961583],\n",
       "       [-2.05829373,  0.30867048, -0.70731447, -0.03614028],\n",
       "       [-0.04030181,  0.12841234, -0.54984943, -1.33199993],\n",
       "       [-0.82739353, -0.31993089, -0.87147233, -0.02703434],\n",
       "       [-0.40862097, -1.50354306, -0.88692498, -1.47814518]])"
      ]
     },
     "execution_count": 16,
     "metadata": {},
     "output_type": "execute_result"
    }
   ],
   "source": [
    "data_n"
   ]
  },
  {
   "cell_type": "code",
   "execution_count": 17,
   "metadata": {},
   "outputs": [
    {
     "data": {
      "text/plain": [
       "array([1., 1., 1., 1.])"
      ]
     },
     "execution_count": 17,
     "metadata": {},
     "output_type": "execute_result"
    }
   ],
   "source": [
    "data_n.std(axis=0)"
   ]
  },
  {
   "cell_type": "code",
   "execution_count": 18,
   "metadata": {},
   "outputs": [],
   "source": [
    "oringin_data=std.inverse_transform(data_n)"
   ]
  },
  {
   "cell_type": "code",
   "execution_count": 20,
   "metadata": {},
   "outputs": [
    {
     "data": {
      "text/plain": [
       "array([[ 2.59926934,  1.24932397, -1.19465453,  3.33336576],\n",
       "       [-0.67060292,  1.54296021,  4.18299086, -1.8477924 ],\n",
       "       [ 1.44973848,  3.94723758, -1.58636201, -2.75406061],\n",
       "       [ 2.43179485,  3.66608289, -3.71528476,  0.51004645],\n",
       "       [ 2.39398206, -1.56974918,  7.02541551,  3.02429459],\n",
       "       [-7.55955111,  0.15827324,  1.74192892, -0.76233663],\n",
       "       [ 6.31813425, -1.09687079, -4.28431144,  2.79693219],\n",
       "       [ 2.79752424,  0.34968577,  0.1499623 ,  2.77879194],\n",
       "       [ 0.92328125,  2.17560071,  3.45954007,  4.56767924],\n",
       "       [ 3.17034083,  4.81340729,  2.17148274,  0.3998662 ],\n",
       "       [ 1.19324865,  2.02419623, -1.74969072,  7.61217469],\n",
       "       [ 2.70185543,  2.91497823,  3.86527955,  1.97645699],\n",
       "       [ 3.40335559,  1.74788569,  2.89332729,  1.52580016],\n",
       "       [ 4.37615019, -2.09088854,  1.66839942,  0.83476626],\n",
       "       [-1.09320305,  3.24376701,  2.32976253,  4.22408617],\n",
       "       [ 1.19158996,  1.62361006,  2.78348522, -1.10931701],\n",
       "       [ 0.23064397, -0.73488812, -1.20351051, -3.60683877],\n",
       "       [-0.61737468, -0.07314594,  0.60752026, -2.31754564],\n",
       "       [ 2.70786461,  1.82454136, -0.66436445,  3.88960001],\n",
       "       [-2.63139411,  6.73678865,  2.47430577,  5.9052781 ],\n",
       "       [ 7.49652719,  6.72419101,  0.30294548, -3.25903831],\n",
       "       [-2.64254697, -0.34581233,  4.37004456,  4.46660336],\n",
       "       [ 4.20060708,  1.25743016,  5.7608702 ,  1.13647488],\n",
       "       [ 0.25719538,  1.56328404,  4.92033396,  0.90027094],\n",
       "       [ 4.48738145, -5.87222392, -1.74895963,  3.73457037],\n",
       "       [ 3.04556401, -0.38466477, -2.44695966,  1.30771482],\n",
       "       [-5.15914719,  2.0204963 , -1.09864899,  1.0912415 ],\n",
       "       [ 1.09887958,  1.55518115, -0.65228632, -2.61168129],\n",
       "       [-1.34198304,  0.39783589, -1.56398364,  1.11726176],\n",
       "       [-0.04332082, -2.65751951, -1.60778691, -3.02929175]])"
      ]
     },
     "execution_count": 20,
     "metadata": {},
     "output_type": "execute_result"
    }
   ],
   "source": [
    "oringin_data"
   ]
  },
  {
   "cell_type": "markdown",
   "metadata": {},
   "source": [
    "### Data normalization and inverse normalization  using sklearn. [0,1]"
   ]
  },
  {
   "cell_type": "code",
   "execution_count": 21,
   "metadata": {},
   "outputs": [],
   "source": [
    "mm = MinMaxScaler()# 创建MinMaxScaler 对象\n",
    "mm_data = mm.fit_transform(data) # 归一化数据\n",
    "origin_data = mm.inverse_transform(mm_data)"
   ]
  },
  {
   "cell_type": "code",
   "execution_count": 22,
   "metadata": {},
   "outputs": [
    {
     "data": {
      "text/plain": [
       "array([[0.67473217, 0.56479822, 0.27318581, 0.61861095],\n",
       "       [0.45755263, 0.58808603, 0.74867434, 0.15679154],\n",
       "       [0.59838222, 0.7787653 , 0.23855124, 0.07601187],\n",
       "       [0.66360879, 0.75646739, 0.05031303, 0.36695608],\n",
       "       [0.66109733, 0.34122218, 1.        , 0.59106207],\n",
       "       [0.        , 0.47826879, 0.53283695, 0.25354298],\n",
       "       [0.92173308, 0.37872538, 0.        , 0.57079626],\n",
       "       [0.68789994, 0.4934494 , 0.39207611, 0.56917934],\n",
       "       [0.5634158 , 0.6382597 , 0.6847072 , 0.72863073],\n",
       "       [0.71266181, 0.8474598 , 0.57081786, 0.35713523],\n",
       "       [0.58134659, 0.62625206, 0.22410981, 1.        ],\n",
       "       [0.68154577, 0.69689852, 0.72058247, 0.4976637 ],\n",
       "       [0.72813826, 0.60433833, 0.63464297, 0.45749468],\n",
       "       [0.79274968, 0.29989148, 0.52633551, 0.39589979],\n",
       "       [0.42948422, 0.72297421, 0.58481288, 0.69800477],\n",
       "       [0.58123642, 0.59448224, 0.6249308 , 0.2226151 ],\n",
       "       [0.51741197, 0.40743363, 0.27240277, 0.        ],\n",
       "       [0.46108796, 0.45991531, 0.43253314, 0.11492037],\n",
       "       [0.68194489, 0.61041777, 0.32007377, 0.66819055],\n",
       "       [0.3273201 , 1.        , 0.59759331, 0.8478568 ],\n",
       "       [1.        , 0.9990009 , 0.4056028 , 0.03100098],\n",
       "       [0.32657934, 0.43829059, 0.76521352, 0.7196214 ],\n",
       "       [0.7810904 , 0.56544111, 0.88818958, 0.4227924 ],\n",
       "       [0.51917547, 0.58969788, 0.81386982, 0.40173851],\n",
       "       [0.80013748, 0.        , 0.22417445, 0.65437208],\n",
       "       [0.70437433, 0.43520927, 0.16245766, 0.43805577],\n",
       "       [0.15943089, 0.62595863, 0.28167457, 0.41876055],\n",
       "       [0.57507875, 0.58905525, 0.32114172, 0.08870276],\n",
       "       [0.41296066, 0.49726811, 0.24052993, 0.42107985],\n",
       "       [0.49921567, 0.25495291, 0.23665687, 0.05147931]])"
      ]
     },
     "execution_count": 22,
     "metadata": {},
     "output_type": "execute_result"
    }
   ],
   "source": [
    "mm_data"
   ]
  },
  {
   "cell_type": "markdown",
   "metadata": {},
   "source": [
    "## Encoding the Categorical variables"
   ]
  },
  {
   "cell_type": "markdown",
   "metadata": {},
   "source": [
    "Categorical variables means that data which shows categories or some memberships. Mostly this data can be in the form of string or characters. But all machine learning models works on only numerical data, so that's why we have to encode these variables in numerical format.\n",
    "\n",
    "There are several methods for encoding categorical variables.\n",
    "we will discuss get_dummies method from pandas library.\n",
    "This method creates dummy variables for categorical data. Basically it converts categorical data into 0/1 on the basis of categories from that column."
   ]
  },
  {
   "cell_type": "code",
   "execution_count": 24,
   "metadata": {},
   "outputs": [],
   "source": [
    "import pandas as pd"
   ]
  },
  {
   "cell_type": "code",
   "execution_count": 25,
   "metadata": {},
   "outputs": [
    {
     "name": "stdout",
     "output_type": "stream",
     "text": [
      "   a  b  c\n",
      "0  1  0  0\n",
      "1  0  1  0\n",
      "2  0  0  1\n",
      "3  1  0  0\n"
     ]
    }
   ],
   "source": [
    "s = pd.Series(list('abca'))\n",
    "print(pd.get_dummies(s))"
   ]
  },
  {
   "cell_type": "code",
   "execution_count": 26,
   "metadata": {},
   "outputs": [
    {
     "name": "stdout",
     "output_type": "stream",
     "text": [
      "   a  b\n",
      "0  1  0\n",
      "1  0  1\n",
      "2  0  0\n"
     ]
    }
   ],
   "source": [
    "s1 = ['a', 'b', np.nan]\n",
    "print(pd.get_dummies(s1))"
   ]
  },
  {
   "cell_type": "code",
   "execution_count": 27,
   "metadata": {},
   "outputs": [
    {
     "name": "stdout",
     "output_type": "stream",
     "text": [
      "   a  b  NaN\n",
      "0  1  0    0\n",
      "1  0  1    0\n",
      "2  0  0    1\n"
     ]
    }
   ],
   "source": [
    "print(pd.get_dummies(s1, dummy_na=True))"
   ]
  },
  {
   "cell_type": "code",
   "execution_count": 28,
   "metadata": {},
   "outputs": [
    {
     "name": "stdout",
     "output_type": "stream",
     "text": [
      "   A  B  C\n",
      "0  a  b  1\n",
      "1  b  a  2\n",
      "2  a  c  3\n"
     ]
    }
   ],
   "source": [
    "df = pd.DataFrame({'A': ['a', 'b', 'a'], 'B': ['b', 'a', 'c'],\n",
    "                   'C': [1, 2, 3]})\n",
    "print(df)"
   ]
  },
  {
   "cell_type": "code",
   "execution_count": 29,
   "metadata": {},
   "outputs": [
    {
     "name": "stdout",
     "output_type": "stream",
     "text": [
      "   C  A_a  A_b  B_a  B_b  B_c\n",
      "0  1    1    0    0    1    0\n",
      "1  2    0    1    1    0    0\n",
      "2  3    1    0    0    0    1\n"
     ]
    }
   ],
   "source": [
    "print(pd.get_dummies(df))"
   ]
  },
  {
   "cell_type": "code",
   "execution_count": null,
   "metadata": {},
   "outputs": [],
   "source": []
  },
  {
   "cell_type": "code",
   "execution_count": null,
   "metadata": {},
   "outputs": [],
   "source": []
  },
  {
   "cell_type": "code",
   "execution_count": 30,
   "metadata": {},
   "outputs": [
    {
     "data": {
      "text/html": [
       "<div>\n",
       "<style scoped>\n",
       "    .dataframe tbody tr th:only-of-type {\n",
       "        vertical-align: middle;\n",
       "    }\n",
       "\n",
       "    .dataframe tbody tr th {\n",
       "        vertical-align: top;\n",
       "    }\n",
       "\n",
       "    .dataframe thead th {\n",
       "        text-align: right;\n",
       "    }\n",
       "</style>\n",
       "<table border=\"1\" class=\"dataframe\">\n",
       "  <thead>\n",
       "    <tr style=\"text-align: right;\">\n",
       "      <th></th>\n",
       "      <th>a</th>\n",
       "      <th>b</th>\n",
       "      <th>c</th>\n",
       "    </tr>\n",
       "  </thead>\n",
       "  <tbody>\n",
       "    <tr>\n",
       "      <th>0</th>\n",
       "      <td>1</td>\n",
       "      <td>0</td>\n",
       "      <td>0</td>\n",
       "    </tr>\n",
       "    <tr>\n",
       "      <th>1</th>\n",
       "      <td>0</td>\n",
       "      <td>1</td>\n",
       "      <td>0</td>\n",
       "    </tr>\n",
       "    <tr>\n",
       "      <th>2</th>\n",
       "      <td>0</td>\n",
       "      <td>0</td>\n",
       "      <td>1</td>\n",
       "    </tr>\n",
       "    <tr>\n",
       "      <th>3</th>\n",
       "      <td>1</td>\n",
       "      <td>0</td>\n",
       "      <td>0</td>\n",
       "    </tr>\n",
       "    <tr>\n",
       "      <th>4</th>\n",
       "      <td>1</td>\n",
       "      <td>0</td>\n",
       "      <td>0</td>\n",
       "    </tr>\n",
       "  </tbody>\n",
       "</table>\n",
       "</div>"
      ],
      "text/plain": [
       "   a  b  c\n",
       "0  1  0  0\n",
       "1  0  1  0\n",
       "2  0  0  1\n",
       "3  1  0  0\n",
       "4  1  0  0"
      ]
     },
     "execution_count": 30,
     "metadata": {},
     "output_type": "execute_result"
    }
   ],
   "source": [
    "pd.get_dummies(pd.Series(list('abcaa')))\n"
   ]
  },
  {
   "cell_type": "code",
   "execution_count": 31,
   "metadata": {},
   "outputs": [
    {
     "data": {
      "text/html": [
       "<div>\n",
       "<style scoped>\n",
       "    .dataframe tbody tr th:only-of-type {\n",
       "        vertical-align: middle;\n",
       "    }\n",
       "\n",
       "    .dataframe tbody tr th {\n",
       "        vertical-align: top;\n",
       "    }\n",
       "\n",
       "    .dataframe thead th {\n",
       "        text-align: right;\n",
       "    }\n",
       "</style>\n",
       "<table border=\"1\" class=\"dataframe\">\n",
       "  <thead>\n",
       "    <tr style=\"text-align: right;\">\n",
       "      <th></th>\n",
       "      <th>b</th>\n",
       "      <th>c</th>\n",
       "    </tr>\n",
       "  </thead>\n",
       "  <tbody>\n",
       "    <tr>\n",
       "      <th>0</th>\n",
       "      <td>0</td>\n",
       "      <td>0</td>\n",
       "    </tr>\n",
       "    <tr>\n",
       "      <th>1</th>\n",
       "      <td>1</td>\n",
       "      <td>0</td>\n",
       "    </tr>\n",
       "    <tr>\n",
       "      <th>2</th>\n",
       "      <td>0</td>\n",
       "      <td>1</td>\n",
       "    </tr>\n",
       "    <tr>\n",
       "      <th>3</th>\n",
       "      <td>0</td>\n",
       "      <td>0</td>\n",
       "    </tr>\n",
       "    <tr>\n",
       "      <th>4</th>\n",
       "      <td>0</td>\n",
       "      <td>0</td>\n",
       "    </tr>\n",
       "  </tbody>\n",
       "</table>\n",
       "</div>"
      ],
      "text/plain": [
       "   b  c\n",
       "0  0  0\n",
       "1  1  0\n",
       "2  0  1\n",
       "3  0  0\n",
       "4  0  0"
      ]
     },
     "execution_count": 31,
     "metadata": {},
     "output_type": "execute_result"
    }
   ],
   "source": [
    "pd.get_dummies(pd.Series(list('abcaa')), drop_first=True)"
   ]
  },
  {
   "cell_type": "code",
   "execution_count": 32,
   "metadata": {},
   "outputs": [
    {
     "data": {
      "text/html": [
       "<div>\n",
       "<style scoped>\n",
       "    .dataframe tbody tr th:only-of-type {\n",
       "        vertical-align: middle;\n",
       "    }\n",
       "\n",
       "    .dataframe tbody tr th {\n",
       "        vertical-align: top;\n",
       "    }\n",
       "\n",
       "    .dataframe thead th {\n",
       "        text-align: right;\n",
       "    }\n",
       "</style>\n",
       "<table border=\"1\" class=\"dataframe\">\n",
       "  <thead>\n",
       "    <tr style=\"text-align: right;\">\n",
       "      <th></th>\n",
       "      <th>a</th>\n",
       "      <th>b</th>\n",
       "      <th>c</th>\n",
       "    </tr>\n",
       "  </thead>\n",
       "  <tbody>\n",
       "    <tr>\n",
       "      <th>0</th>\n",
       "      <td>1.0</td>\n",
       "      <td>0.0</td>\n",
       "      <td>0.0</td>\n",
       "    </tr>\n",
       "    <tr>\n",
       "      <th>1</th>\n",
       "      <td>0.0</td>\n",
       "      <td>1.0</td>\n",
       "      <td>0.0</td>\n",
       "    </tr>\n",
       "    <tr>\n",
       "      <th>2</th>\n",
       "      <td>0.0</td>\n",
       "      <td>0.0</td>\n",
       "      <td>1.0</td>\n",
       "    </tr>\n",
       "  </tbody>\n",
       "</table>\n",
       "</div>"
      ],
      "text/plain": [
       "     a    b    c\n",
       "0  1.0  0.0  0.0\n",
       "1  0.0  1.0  0.0\n",
       "2  0.0  0.0  1.0"
      ]
     },
     "execution_count": 32,
     "metadata": {},
     "output_type": "execute_result"
    }
   ],
   "source": [
    "pd.get_dummies(pd.Series(list('abc')), dtype=float)"
   ]
  },
  {
   "cell_type": "code",
   "execution_count": null,
   "metadata": {},
   "outputs": [],
   "source": []
  }
 ],
 "metadata": {
  "kernelspec": {
   "display_name": "Python 3 (ipykernel)",
   "language": "python",
   "name": "python3"
  },
  "language_info": {
   "codemirror_mode": {
    "name": "ipython",
    "version": 3
   },
   "file_extension": ".py",
   "mimetype": "text/x-python",
   "name": "python",
   "nbconvert_exporter": "python",
   "pygments_lexer": "ipython3",
   "version": "3.10.9"
  }
 },
 "nbformat": 4,
 "nbformat_minor": 2
}
